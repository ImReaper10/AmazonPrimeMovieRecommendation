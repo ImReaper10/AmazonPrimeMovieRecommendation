{
 "cells": [
  {
   "cell_type": "code",
   "execution_count": 16,
   "id": "98759459",
   "metadata": {},
   "outputs": [],
   "source": [
    "import pandas as pd\n",
    "import seaborn as sns\n",
    "import numpy as np\n",
    "import matplotlib.pyplot as plt"
   ]
  },
  {
   "cell_type": "code",
   "execution_count": 17,
   "id": "2488f9b0",
   "metadata": {},
   "outputs": [
    {
     "data": {
      "text/html": [
       "<div>\n",
       "<style scoped>\n",
       "    .dataframe tbody tr th:only-of-type {\n",
       "        vertical-align: middle;\n",
       "    }\n",
       "\n",
       "    .dataframe tbody tr th {\n",
       "        vertical-align: top;\n",
       "    }\n",
       "\n",
       "    .dataframe thead th {\n",
       "        text-align: right;\n",
       "    }\n",
       "</style>\n",
       "<table border=\"1\" class=\"dataframe\">\n",
       "  <thead>\n",
       "    <tr style=\"text-align: right;\">\n",
       "      <th></th>\n",
       "      <th>show_id</th>\n",
       "      <th>type</th>\n",
       "      <th>title</th>\n",
       "      <th>director</th>\n",
       "      <th>cast</th>\n",
       "      <th>country</th>\n",
       "      <th>date_added</th>\n",
       "      <th>release_year</th>\n",
       "      <th>rating</th>\n",
       "      <th>duration</th>\n",
       "      <th>listed_in</th>\n",
       "      <th>description</th>\n",
       "    </tr>\n",
       "  </thead>\n",
       "  <tbody>\n",
       "    <tr>\n",
       "      <th>0</th>\n",
       "      <td>s1</td>\n",
       "      <td>Movie</td>\n",
       "      <td>The Grand Seduction</td>\n",
       "      <td>Don McKellar</td>\n",
       "      <td>Brendan Gleeson, Taylor Kitsch, Gordon Pinsent</td>\n",
       "      <td>Canada</td>\n",
       "      <td>March 30, 2021</td>\n",
       "      <td>2014</td>\n",
       "      <td>NaN</td>\n",
       "      <td>113 min</td>\n",
       "      <td>Comedy, Drama</td>\n",
       "      <td>A small fishing village must procure a local d...</td>\n",
       "    </tr>\n",
       "    <tr>\n",
       "      <th>1</th>\n",
       "      <td>s2</td>\n",
       "      <td>Movie</td>\n",
       "      <td>Take Care Good Night</td>\n",
       "      <td>Girish Joshi</td>\n",
       "      <td>Mahesh Manjrekar, Abhay Mahajan, Sachin Khedekar</td>\n",
       "      <td>India</td>\n",
       "      <td>March 30, 2021</td>\n",
       "      <td>2018</td>\n",
       "      <td>13+</td>\n",
       "      <td>110 min</td>\n",
       "      <td>Drama, International</td>\n",
       "      <td>A Metro Family decides to fight a Cyber Crimin...</td>\n",
       "    </tr>\n",
       "    <tr>\n",
       "      <th>2</th>\n",
       "      <td>s3</td>\n",
       "      <td>Movie</td>\n",
       "      <td>Secrets of Deception</td>\n",
       "      <td>Josh Webber</td>\n",
       "      <td>Tom Sizemore, Lorenzo Lamas, Robert LaSardo, R...</td>\n",
       "      <td>United States</td>\n",
       "      <td>March 30, 2021</td>\n",
       "      <td>2017</td>\n",
       "      <td>NaN</td>\n",
       "      <td>74 min</td>\n",
       "      <td>Action, Drama, Suspense</td>\n",
       "      <td>After a man discovers his wife is cheating on ...</td>\n",
       "    </tr>\n",
       "    <tr>\n",
       "      <th>3</th>\n",
       "      <td>s4</td>\n",
       "      <td>Movie</td>\n",
       "      <td>Pink: Staying True</td>\n",
       "      <td>Sonia Anderson</td>\n",
       "      <td>Interviews with: Pink, Adele, Beyoncé, Britney...</td>\n",
       "      <td>United States</td>\n",
       "      <td>March 30, 2021</td>\n",
       "      <td>2014</td>\n",
       "      <td>NaN</td>\n",
       "      <td>69 min</td>\n",
       "      <td>Documentary</td>\n",
       "      <td>Pink breaks the mold once again, bringing her ...</td>\n",
       "    </tr>\n",
       "    <tr>\n",
       "      <th>4</th>\n",
       "      <td>s5</td>\n",
       "      <td>Movie</td>\n",
       "      <td>Monster Maker</td>\n",
       "      <td>Giles Foster</td>\n",
       "      <td>Harry Dean Stanton, Kieran O'Brien, George Cos...</td>\n",
       "      <td>United Kingdom</td>\n",
       "      <td>March 30, 2021</td>\n",
       "      <td>1989</td>\n",
       "      <td>NaN</td>\n",
       "      <td>45 min</td>\n",
       "      <td>Drama, Fantasy</td>\n",
       "      <td>Teenage Matt Banting wants to work with a famo...</td>\n",
       "    </tr>\n",
       "    <tr>\n",
       "      <th>5</th>\n",
       "      <td>s6</td>\n",
       "      <td>Movie</td>\n",
       "      <td>Living With Dinosaurs</td>\n",
       "      <td>Paul Weiland</td>\n",
       "      <td>Gregory Chisholm, Juliet Stevenson, Brian Hens...</td>\n",
       "      <td>United Kingdom</td>\n",
       "      <td>March 30, 2021</td>\n",
       "      <td>1989</td>\n",
       "      <td>NaN</td>\n",
       "      <td>52 min</td>\n",
       "      <td>Fantasy, Kids</td>\n",
       "      <td>The story unfolds in a an English seaside town...</td>\n",
       "    </tr>\n",
       "    <tr>\n",
       "      <th>6</th>\n",
       "      <td>s7</td>\n",
       "      <td>Movie</td>\n",
       "      <td>Hired Gun</td>\n",
       "      <td>Fran Strine</td>\n",
       "      <td>Alice Cooper, Liberty DeVitto, Ray Parker Jr.,...</td>\n",
       "      <td>United States</td>\n",
       "      <td>March 30, 2021</td>\n",
       "      <td>2017</td>\n",
       "      <td>NaN</td>\n",
       "      <td>98 min</td>\n",
       "      <td>Documentary, Special Interest</td>\n",
       "      <td>They are the \"First Call, A-list\" musicians, j...</td>\n",
       "    </tr>\n",
       "    <tr>\n",
       "      <th>7</th>\n",
       "      <td>s8</td>\n",
       "      <td>Movie</td>\n",
       "      <td>Grease Live!</td>\n",
       "      <td>Thomas Kail, Alex Rudzinski</td>\n",
       "      <td>Julianne Hough, Aaron Tveit, Vanessa Hudgens, ...</td>\n",
       "      <td>United States</td>\n",
       "      <td>March 30, 2021</td>\n",
       "      <td>2016</td>\n",
       "      <td>NaN</td>\n",
       "      <td>131 min</td>\n",
       "      <td>Comedy</td>\n",
       "      <td>This honest, uncompromising comedy chronicles ...</td>\n",
       "    </tr>\n",
       "    <tr>\n",
       "      <th>8</th>\n",
       "      <td>s9</td>\n",
       "      <td>Movie</td>\n",
       "      <td>Global Meltdown</td>\n",
       "      <td>Daniel Gilboy</td>\n",
       "      <td>Michael Paré, Leanne Khol Young, Patrick J. Ma...</td>\n",
       "      <td>Canada</td>\n",
       "      <td>March 30, 2021</td>\n",
       "      <td>2017</td>\n",
       "      <td>NaN</td>\n",
       "      <td>87 min</td>\n",
       "      <td>Action, Science Fiction, Suspense</td>\n",
       "      <td>A helicopter pilot and an environmental scient...</td>\n",
       "    </tr>\n",
       "    <tr>\n",
       "      <th>9</th>\n",
       "      <td>s10</td>\n",
       "      <td>Movie</td>\n",
       "      <td>David's Mother</td>\n",
       "      <td>Robert Allan Ackerman</td>\n",
       "      <td>Kirstie Alley, Sam Waterston, Stockard Channing</td>\n",
       "      <td>United States</td>\n",
       "      <td>April 1, 2021</td>\n",
       "      <td>1994</td>\n",
       "      <td>NaN</td>\n",
       "      <td>92 min</td>\n",
       "      <td>Drama</td>\n",
       "      <td>Sally Goodson is a devoted mother to her autis...</td>\n",
       "    </tr>\n",
       "    <tr>\n",
       "      <th>10</th>\n",
       "      <td>s11</td>\n",
       "      <td>Movie</td>\n",
       "      <td>Forest Fairies</td>\n",
       "      <td>Justin G. Dyck</td>\n",
       "      <td>Emily Wilder, Adrian Cowan, Gary Mckenzie, Jer...</td>\n",
       "      <td>Canada</td>\n",
       "      <td>April 4, 2021</td>\n",
       "      <td>2016</td>\n",
       "      <td>NaN</td>\n",
       "      <td>88 min</td>\n",
       "      <td>Adventure, Kids</td>\n",
       "      <td>Amanda stumbles upon a hidden village of fairi...</td>\n",
       "    </tr>\n",
       "    <tr>\n",
       "      <th>11</th>\n",
       "      <td>s12</td>\n",
       "      <td>Movie</td>\n",
       "      <td>Take Care</td>\n",
       "      <td>Liz Tuccillo</td>\n",
       "      <td>Leslie Bibb, Kevin Curtis, Nadia Dajani</td>\n",
       "      <td>United States</td>\n",
       "      <td>April 10, 2021</td>\n",
       "      <td>2014</td>\n",
       "      <td>NaN</td>\n",
       "      <td>93 min</td>\n",
       "      <td>Comedy</td>\n",
       "      <td>When a car crash leaves Frannie immobilized, s...</td>\n",
       "    </tr>\n",
       "    <tr>\n",
       "      <th>12</th>\n",
       "      <td>s13</td>\n",
       "      <td>Movie</td>\n",
       "      <td>The Night Eats The World</td>\n",
       "      <td>Dominique Rocher</td>\n",
       "      <td>Anders Danielsen Lie, Golshifteh Farahani, Den...</td>\n",
       "      <td>France</td>\n",
       "      <td>April 17, 2021</td>\n",
       "      <td>2018</td>\n",
       "      <td>NaN</td>\n",
       "      <td>94 min</td>\n",
       "      <td>Horror, Suspense</td>\n",
       "      <td>After waking up in an apartment the night afte...</td>\n",
       "    </tr>\n",
       "    <tr>\n",
       "      <th>13</th>\n",
       "      <td>s14</td>\n",
       "      <td>Movie</td>\n",
       "      <td>Resilencia</td>\n",
       "      <td>Jep Barcelona</td>\n",
       "      <td>Rafinha Alcantara, Marc-André Ter Stegen, Serg...</td>\n",
       "      <td>Spain</td>\n",
       "      <td>April 24, 2021</td>\n",
       "      <td>2020</td>\n",
       "      <td>NaN</td>\n",
       "      <td>46 min</td>\n",
       "      <td>Documentary, Sports</td>\n",
       "      <td>The documentary follows the midfielder’s every...</td>\n",
       "    </tr>\n",
       "    <tr>\n",
       "      <th>14</th>\n",
       "      <td>s15</td>\n",
       "      <td>Movie</td>\n",
       "      <td>Elon Musk: The Real Life Iron Man</td>\n",
       "      <td>Sonia Anderson</td>\n",
       "      <td>Elon Musk, Per Wimmer, Julie Anderson-Ankenbra...</td>\n",
       "      <td>United Kingdom</td>\n",
       "      <td>May 2, 2021</td>\n",
       "      <td>2018</td>\n",
       "      <td>NaN</td>\n",
       "      <td>74 min</td>\n",
       "      <td>Documentary</td>\n",
       "      <td>Discover the meteoric rise of Elon Musk, the m...</td>\n",
       "    </tr>\n",
       "    <tr>\n",
       "      <th>15</th>\n",
       "      <td>s16</td>\n",
       "      <td>Movie</td>\n",
       "      <td>Summer '03</td>\n",
       "      <td>Becca Gleason</td>\n",
       "      <td>Joey King, Jack Kilmer, Andrea Savage, Paul Sc...</td>\n",
       "      <td>United States</td>\n",
       "      <td>June 3, 2021</td>\n",
       "      <td>2019</td>\n",
       "      <td>NaN</td>\n",
       "      <td>96 min</td>\n",
       "      <td>Comedy, Drama</td>\n",
       "      <td>Summer '03 is the hilarious story of 16-year-o...</td>\n",
       "    </tr>\n",
       "    <tr>\n",
       "      <th>16</th>\n",
       "      <td>s17</td>\n",
       "      <td>Movie</td>\n",
       "      <td>Zoombies</td>\n",
       "      <td>Glenn Miller</td>\n",
       "      <td>Marcus Anderson, Kaiwi Lyman, Andrew Asper</td>\n",
       "      <td>NaN</td>\n",
       "      <td>NaN</td>\n",
       "      <td>2016</td>\n",
       "      <td>13+</td>\n",
       "      <td>87 min</td>\n",
       "      <td>Horror, Science Fiction</td>\n",
       "      <td>When a strange virus quickly spreads through a...</td>\n",
       "    </tr>\n",
       "    <tr>\n",
       "      <th>17</th>\n",
       "      <td>s18</td>\n",
       "      <td>TV Show</td>\n",
       "      <td>Zoo Babies</td>\n",
       "      <td>NaN</td>\n",
       "      <td>Narrator - Gillian Barlett</td>\n",
       "      <td>NaN</td>\n",
       "      <td>NaN</td>\n",
       "      <td>2008</td>\n",
       "      <td>ALL</td>\n",
       "      <td>1 Season</td>\n",
       "      <td>Kids, Special Interest</td>\n",
       "      <td>A heart warming and inspiring series that welc...</td>\n",
       "    </tr>\n",
       "    <tr>\n",
       "      <th>18</th>\n",
       "      <td>s19</td>\n",
       "      <td>TV Show</td>\n",
       "      <td>Zoë Coombs Marr: Bossy Bottom</td>\n",
       "      <td>NaN</td>\n",
       "      <td>Zoë Coombs Marr</td>\n",
       "      <td>NaN</td>\n",
       "      <td>NaN</td>\n",
       "      <td>2020</td>\n",
       "      <td>18+</td>\n",
       "      <td>1 Season</td>\n",
       "      <td>Comedy, Talk Show and Variety</td>\n",
       "      <td>Zoë Coombs Marr has been on hiatus. Sort of. F...</td>\n",
       "    </tr>\n",
       "    <tr>\n",
       "      <th>19</th>\n",
       "      <td>s20</td>\n",
       "      <td>Movie</td>\n",
       "      <td>Zoe</td>\n",
       "      <td>Drake Doremus</td>\n",
       "      <td>Ewan McGregor, Léa Seydoux, Theo James, Mirand...</td>\n",
       "      <td>NaN</td>\n",
       "      <td>NaN</td>\n",
       "      <td>2018</td>\n",
       "      <td>R</td>\n",
       "      <td>104 min</td>\n",
       "      <td>Science Fiction</td>\n",
       "      <td>ZOE tells a tale of forbidden love between an ...</td>\n",
       "    </tr>\n",
       "  </tbody>\n",
       "</table>\n",
       "</div>"
      ],
      "text/plain": [
       "   show_id     type                              title  \\\n",
       "0       s1    Movie                The Grand Seduction   \n",
       "1       s2    Movie               Take Care Good Night   \n",
       "2       s3    Movie               Secrets of Deception   \n",
       "3       s4    Movie                 Pink: Staying True   \n",
       "4       s5    Movie                      Monster Maker   \n",
       "5       s6    Movie              Living With Dinosaurs   \n",
       "6       s7    Movie                          Hired Gun   \n",
       "7       s8    Movie                       Grease Live!   \n",
       "8       s9    Movie                    Global Meltdown   \n",
       "9      s10    Movie                     David's Mother   \n",
       "10     s11    Movie                     Forest Fairies   \n",
       "11     s12    Movie                          Take Care   \n",
       "12     s13    Movie           The Night Eats The World   \n",
       "13     s14    Movie                         Resilencia   \n",
       "14     s15    Movie  Elon Musk: The Real Life Iron Man   \n",
       "15     s16    Movie                         Summer '03   \n",
       "16     s17    Movie                           Zoombies   \n",
       "17     s18  TV Show                         Zoo Babies   \n",
       "18     s19  TV Show      Zoë Coombs Marr: Bossy Bottom   \n",
       "19     s20    Movie                                Zoe   \n",
       "\n",
       "                       director  \\\n",
       "0                  Don McKellar   \n",
       "1                  Girish Joshi   \n",
       "2                   Josh Webber   \n",
       "3                Sonia Anderson   \n",
       "4                  Giles Foster   \n",
       "5                  Paul Weiland   \n",
       "6                   Fran Strine   \n",
       "7   Thomas Kail, Alex Rudzinski   \n",
       "8                 Daniel Gilboy   \n",
       "9         Robert Allan Ackerman   \n",
       "10               Justin G. Dyck   \n",
       "11                 Liz Tuccillo   \n",
       "12             Dominique Rocher   \n",
       "13                Jep Barcelona   \n",
       "14               Sonia Anderson   \n",
       "15                Becca Gleason   \n",
       "16                 Glenn Miller   \n",
       "17                          NaN   \n",
       "18                          NaN   \n",
       "19                Drake Doremus   \n",
       "\n",
       "                                                 cast         country  \\\n",
       "0      Brendan Gleeson, Taylor Kitsch, Gordon Pinsent          Canada   \n",
       "1    Mahesh Manjrekar, Abhay Mahajan, Sachin Khedekar           India   \n",
       "2   Tom Sizemore, Lorenzo Lamas, Robert LaSardo, R...   United States   \n",
       "3   Interviews with: Pink, Adele, Beyoncé, Britney...   United States   \n",
       "4   Harry Dean Stanton, Kieran O'Brien, George Cos...  United Kingdom   \n",
       "5   Gregory Chisholm, Juliet Stevenson, Brian Hens...  United Kingdom   \n",
       "6   Alice Cooper, Liberty DeVitto, Ray Parker Jr.,...   United States   \n",
       "7   Julianne Hough, Aaron Tveit, Vanessa Hudgens, ...   United States   \n",
       "8   Michael Paré, Leanne Khol Young, Patrick J. Ma...          Canada   \n",
       "9     Kirstie Alley, Sam Waterston, Stockard Channing   United States   \n",
       "10  Emily Wilder, Adrian Cowan, Gary Mckenzie, Jer...          Canada   \n",
       "11            Leslie Bibb, Kevin Curtis, Nadia Dajani   United States   \n",
       "12  Anders Danielsen Lie, Golshifteh Farahani, Den...          France   \n",
       "13  Rafinha Alcantara, Marc-André Ter Stegen, Serg...           Spain   \n",
       "14  Elon Musk, Per Wimmer, Julie Anderson-Ankenbra...  United Kingdom   \n",
       "15  Joey King, Jack Kilmer, Andrea Savage, Paul Sc...   United States   \n",
       "16         Marcus Anderson, Kaiwi Lyman, Andrew Asper             NaN   \n",
       "17                         Narrator - Gillian Barlett             NaN   \n",
       "18                                    Zoë Coombs Marr             NaN   \n",
       "19  Ewan McGregor, Léa Seydoux, Theo James, Mirand...             NaN   \n",
       "\n",
       "        date_added  release_year rating  duration  \\\n",
       "0   March 30, 2021          2014    NaN   113 min   \n",
       "1   March 30, 2021          2018    13+   110 min   \n",
       "2   March 30, 2021          2017    NaN    74 min   \n",
       "3   March 30, 2021          2014    NaN    69 min   \n",
       "4   March 30, 2021          1989    NaN    45 min   \n",
       "5   March 30, 2021          1989    NaN    52 min   \n",
       "6   March 30, 2021          2017    NaN    98 min   \n",
       "7   March 30, 2021          2016    NaN   131 min   \n",
       "8   March 30, 2021          2017    NaN    87 min   \n",
       "9    April 1, 2021          1994    NaN    92 min   \n",
       "10   April 4, 2021          2016    NaN    88 min   \n",
       "11  April 10, 2021          2014    NaN    93 min   \n",
       "12  April 17, 2021          2018    NaN    94 min   \n",
       "13  April 24, 2021          2020    NaN    46 min   \n",
       "14     May 2, 2021          2018    NaN    74 min   \n",
       "15    June 3, 2021          2019    NaN    96 min   \n",
       "16             NaN          2016    13+    87 min   \n",
       "17             NaN          2008    ALL  1 Season   \n",
       "18             NaN          2020    18+  1 Season   \n",
       "19             NaN          2018      R   104 min   \n",
       "\n",
       "                            listed_in  \\\n",
       "0                       Comedy, Drama   \n",
       "1                Drama, International   \n",
       "2             Action, Drama, Suspense   \n",
       "3                         Documentary   \n",
       "4                      Drama, Fantasy   \n",
       "5                       Fantasy, Kids   \n",
       "6       Documentary, Special Interest   \n",
       "7                              Comedy   \n",
       "8   Action, Science Fiction, Suspense   \n",
       "9                               Drama   \n",
       "10                    Adventure, Kids   \n",
       "11                             Comedy   \n",
       "12                   Horror, Suspense   \n",
       "13                Documentary, Sports   \n",
       "14                        Documentary   \n",
       "15                      Comedy, Drama   \n",
       "16            Horror, Science Fiction   \n",
       "17             Kids, Special Interest   \n",
       "18      Comedy, Talk Show and Variety   \n",
       "19                    Science Fiction   \n",
       "\n",
       "                                          description  \n",
       "0   A small fishing village must procure a local d...  \n",
       "1   A Metro Family decides to fight a Cyber Crimin...  \n",
       "2   After a man discovers his wife is cheating on ...  \n",
       "3   Pink breaks the mold once again, bringing her ...  \n",
       "4   Teenage Matt Banting wants to work with a famo...  \n",
       "5   The story unfolds in a an English seaside town...  \n",
       "6   They are the \"First Call, A-list\" musicians, j...  \n",
       "7   This honest, uncompromising comedy chronicles ...  \n",
       "8   A helicopter pilot and an environmental scient...  \n",
       "9   Sally Goodson is a devoted mother to her autis...  \n",
       "10  Amanda stumbles upon a hidden village of fairi...  \n",
       "11  When a car crash leaves Frannie immobilized, s...  \n",
       "12  After waking up in an apartment the night afte...  \n",
       "13  The documentary follows the midfielder’s every...  \n",
       "14  Discover the meteoric rise of Elon Musk, the m...  \n",
       "15  Summer '03 is the hilarious story of 16-year-o...  \n",
       "16  When a strange virus quickly spreads through a...  \n",
       "17  A heart warming and inspiring series that welc...  \n",
       "18  Zoë Coombs Marr has been on hiatus. Sort of. F...  \n",
       "19  ZOE tells a tale of forbidden love between an ...  "
      ]
     },
     "execution_count": 17,
     "metadata": {},
     "output_type": "execute_result"
    }
   ],
   "source": [
    "data = pd.read_csv(\"amazon_prime_titles.csv\")\n",
    "data.head(20)"
   ]
  },
  {
   "cell_type": "code",
   "execution_count": 18,
   "id": "d85ede43",
   "metadata": {},
   "outputs": [
    {
     "data": {
      "text/plain": [
       "(9668, 12)"
      ]
     },
     "execution_count": 18,
     "metadata": {},
     "output_type": "execute_result"
    }
   ],
   "source": [
    "data.shape\n"
   ]
  },
  {
   "cell_type": "code",
   "execution_count": 19,
   "id": "7815c316",
   "metadata": {},
   "outputs": [
    {
     "data": {
      "text/plain": [
       "<bound method DataFrame.info of      show_id     type                    title         director  \\\n",
       "0         s1    Movie      The Grand Seduction     Don McKellar   \n",
       "1         s2    Movie     Take Care Good Night     Girish Joshi   \n",
       "2         s3    Movie     Secrets of Deception      Josh Webber   \n",
       "3         s4    Movie       Pink: Staying True   Sonia Anderson   \n",
       "4         s5    Movie            Monster Maker     Giles Foster   \n",
       "...      ...      ...                      ...              ...   \n",
       "9663   s9664    Movie      Pride Of The Bowery  Joseph H. Lewis   \n",
       "9664   s9665  TV Show            Planet Patrol              NaN   \n",
       "9665   s9666    Movie                  Outpost     Steve Barker   \n",
       "9666   s9667  TV Show  Maradona: Blessed Dream              NaN   \n",
       "9667   s9668    Movie              Harry Brown    Daniel Barber   \n",
       "\n",
       "                                                   cast         country  \\\n",
       "0        Brendan Gleeson, Taylor Kitsch, Gordon Pinsent          Canada   \n",
       "1      Mahesh Manjrekar, Abhay Mahajan, Sachin Khedekar           India   \n",
       "2     Tom Sizemore, Lorenzo Lamas, Robert LaSardo, R...   United States   \n",
       "3     Interviews with: Pink, Adele, Beyoncé, Britney...   United States   \n",
       "4     Harry Dean Stanton, Kieran O'Brien, George Cos...  United Kingdom   \n",
       "...                                                 ...             ...   \n",
       "9663                           Leo Gorcey, Bobby Jordan             NaN   \n",
       "9664  DICK VOSBURGH, RONNIE STEVENS, LIBBY MORRIS, M...             NaN   \n",
       "9665  Ray Stevenson, Julian Wadham, Richard Brake, M...             NaN   \n",
       "9666  Esteban Recagno, Ezequiel Stremiz, Luciano Vit...             NaN   \n",
       "9667  Michael Caine, Emily Mortimer, Joseph Gilgun, ...             NaN   \n",
       "\n",
       "          date_added  release_year rating   duration                listed_in  \\\n",
       "0     March 30, 2021          2014    NaN    113 min            Comedy, Drama   \n",
       "1     March 30, 2021          2018    13+    110 min     Drama, International   \n",
       "2     March 30, 2021          2017    NaN     74 min  Action, Drama, Suspense   \n",
       "3     March 30, 2021          2014    NaN     69 min              Documentary   \n",
       "4     March 30, 2021          1989    NaN     45 min           Drama, Fantasy   \n",
       "...              ...           ...    ...        ...                      ...   \n",
       "9663             NaN          1940     7+     60 min                   Comedy   \n",
       "9664             NaN          2018    13+  4 Seasons                 TV Shows   \n",
       "9665             NaN          2008      R     90 min                   Action   \n",
       "9666             NaN          2021  TV-MA   1 Season            Drama, Sports   \n",
       "9667             NaN          2010      R    103 min  Action, Drama, Suspense   \n",
       "\n",
       "                                            description  \n",
       "0     A small fishing village must procure a local d...  \n",
       "1     A Metro Family decides to fight a Cyber Crimin...  \n",
       "2     After a man discovers his wife is cheating on ...  \n",
       "3     Pink breaks the mold once again, bringing her ...  \n",
       "4     Teenage Matt Banting wants to work with a famo...  \n",
       "...                                                 ...  \n",
       "9663  New York City street principles get an East Si...  \n",
       "9664  This is Earth, 2100AD - and these are the adve...  \n",
       "9665  In war-torn Eastern Europe, a world-weary grou...  \n",
       "9666  The series tells the story of Diego Maradona, ...  \n",
       "9667  Harry Brown, starring two-time Academy Award w...  \n",
       "\n",
       "[9668 rows x 12 columns]>"
      ]
     },
     "execution_count": 19,
     "metadata": {},
     "output_type": "execute_result"
    }
   ],
   "source": [
    "data.info"
   ]
  },
  {
   "cell_type": "code",
   "execution_count": 20,
   "id": "d072280b",
   "metadata": {},
   "outputs": [
    {
     "data": {
      "text/plain": [
       "show_id            0\n",
       "type               0\n",
       "title              0\n",
       "director        2083\n",
       "cast            1233\n",
       "country         8996\n",
       "date_added      9513\n",
       "release_year       0\n",
       "rating           337\n",
       "duration           0\n",
       "listed_in          0\n",
       "description        0\n",
       "dtype: int64"
      ]
     },
     "execution_count": 20,
     "metadata": {},
     "output_type": "execute_result"
    }
   ],
   "source": [
    "data.isna().sum()"
   ]
  },
  {
   "cell_type": "code",
   "execution_count": 21,
   "id": "0ab68f52",
   "metadata": {},
   "outputs": [],
   "source": [
    "data.dropna(inplace=True)"
   ]
  },
  {
   "cell_type": "code",
   "execution_count": 22,
   "id": "0092ec13",
   "metadata": {},
   "outputs": [
    {
     "data": {
      "text/plain": [
       "(1, 12)"
      ]
     },
     "execution_count": 22,
     "metadata": {},
     "output_type": "execute_result"
    }
   ],
   "source": [
    "data.shape"
   ]
  },
  {
   "cell_type": "code",
   "execution_count": 23,
   "id": "397eaf23",
   "metadata": {},
   "outputs": [
    {
     "data": {
      "text/html": [
       "<div>\n",
       "<style scoped>\n",
       "    .dataframe tbody tr th:only-of-type {\n",
       "        vertical-align: middle;\n",
       "    }\n",
       "\n",
       "    .dataframe tbody tr th {\n",
       "        vertical-align: top;\n",
       "    }\n",
       "\n",
       "    .dataframe thead th {\n",
       "        text-align: right;\n",
       "    }\n",
       "</style>\n",
       "<table border=\"1\" class=\"dataframe\">\n",
       "  <thead>\n",
       "    <tr style=\"text-align: right;\">\n",
       "      <th></th>\n",
       "      <th>show_id</th>\n",
       "      <th>type</th>\n",
       "      <th>title</th>\n",
       "      <th>director</th>\n",
       "      <th>cast</th>\n",
       "      <th>country</th>\n",
       "      <th>date_added</th>\n",
       "      <th>release_year</th>\n",
       "      <th>rating</th>\n",
       "      <th>duration</th>\n",
       "      <th>listed_in</th>\n",
       "      <th>description</th>\n",
       "    </tr>\n",
       "  </thead>\n",
       "  <tbody>\n",
       "    <tr>\n",
       "      <th>0</th>\n",
       "      <td>s1</td>\n",
       "      <td>Movie</td>\n",
       "      <td>The Grand Seduction</td>\n",
       "      <td>Don McKellar</td>\n",
       "      <td>Brendan Gleeson, Taylor Kitsch, Gordon Pinsent</td>\n",
       "      <td>Canada</td>\n",
       "      <td>March 30, 2021</td>\n",
       "      <td>2014</td>\n",
       "      <td>NaN</td>\n",
       "      <td>113 min</td>\n",
       "      <td>Comedy, Drama</td>\n",
       "      <td>A small fishing village must procure a local d...</td>\n",
       "    </tr>\n",
       "    <tr>\n",
       "      <th>1</th>\n",
       "      <td>s2</td>\n",
       "      <td>Movie</td>\n",
       "      <td>Take Care Good Night</td>\n",
       "      <td>Girish Joshi</td>\n",
       "      <td>Mahesh Manjrekar, Abhay Mahajan, Sachin Khedekar</td>\n",
       "      <td>India</td>\n",
       "      <td>March 30, 2021</td>\n",
       "      <td>2018</td>\n",
       "      <td>13+</td>\n",
       "      <td>110 min</td>\n",
       "      <td>Drama, International</td>\n",
       "      <td>A Metro Family decides to fight a Cyber Crimin...</td>\n",
       "    </tr>\n",
       "    <tr>\n",
       "      <th>2</th>\n",
       "      <td>s3</td>\n",
       "      <td>Movie</td>\n",
       "      <td>Secrets of Deception</td>\n",
       "      <td>Josh Webber</td>\n",
       "      <td>Tom Sizemore, Lorenzo Lamas, Robert LaSardo, R...</td>\n",
       "      <td>United States</td>\n",
       "      <td>March 30, 2021</td>\n",
       "      <td>2017</td>\n",
       "      <td>NaN</td>\n",
       "      <td>74 min</td>\n",
       "      <td>Action, Drama, Suspense</td>\n",
       "      <td>After a man discovers his wife is cheating on ...</td>\n",
       "    </tr>\n",
       "    <tr>\n",
       "      <th>3</th>\n",
       "      <td>s4</td>\n",
       "      <td>Movie</td>\n",
       "      <td>Pink: Staying True</td>\n",
       "      <td>Sonia Anderson</td>\n",
       "      <td>Interviews with: Pink, Adele, Beyoncé, Britney...</td>\n",
       "      <td>United States</td>\n",
       "      <td>March 30, 2021</td>\n",
       "      <td>2014</td>\n",
       "      <td>NaN</td>\n",
       "      <td>69 min</td>\n",
       "      <td>Documentary</td>\n",
       "      <td>Pink breaks the mold once again, bringing her ...</td>\n",
       "    </tr>\n",
       "    <tr>\n",
       "      <th>4</th>\n",
       "      <td>s5</td>\n",
       "      <td>Movie</td>\n",
       "      <td>Monster Maker</td>\n",
       "      <td>Giles Foster</td>\n",
       "      <td>Harry Dean Stanton, Kieran O'Brien, George Cos...</td>\n",
       "      <td>United Kingdom</td>\n",
       "      <td>March 30, 2021</td>\n",
       "      <td>1989</td>\n",
       "      <td>NaN</td>\n",
       "      <td>45 min</td>\n",
       "      <td>Drama, Fantasy</td>\n",
       "      <td>Teenage Matt Banting wants to work with a famo...</td>\n",
       "    </tr>\n",
       "  </tbody>\n",
       "</table>\n",
       "</div>"
      ],
      "text/plain": [
       "  show_id   type                 title        director  \\\n",
       "0      s1  Movie   The Grand Seduction    Don McKellar   \n",
       "1      s2  Movie  Take Care Good Night    Girish Joshi   \n",
       "2      s3  Movie  Secrets of Deception     Josh Webber   \n",
       "3      s4  Movie    Pink: Staying True  Sonia Anderson   \n",
       "4      s5  Movie         Monster Maker    Giles Foster   \n",
       "\n",
       "                                                cast         country  \\\n",
       "0     Brendan Gleeson, Taylor Kitsch, Gordon Pinsent          Canada   \n",
       "1   Mahesh Manjrekar, Abhay Mahajan, Sachin Khedekar           India   \n",
       "2  Tom Sizemore, Lorenzo Lamas, Robert LaSardo, R...   United States   \n",
       "3  Interviews with: Pink, Adele, Beyoncé, Britney...   United States   \n",
       "4  Harry Dean Stanton, Kieran O'Brien, George Cos...  United Kingdom   \n",
       "\n",
       "       date_added  release_year rating duration                listed_in  \\\n",
       "0  March 30, 2021          2014    NaN  113 min            Comedy, Drama   \n",
       "1  March 30, 2021          2018    13+  110 min     Drama, International   \n",
       "2  March 30, 2021          2017    NaN   74 min  Action, Drama, Suspense   \n",
       "3  March 30, 2021          2014    NaN   69 min              Documentary   \n",
       "4  March 30, 2021          1989    NaN   45 min           Drama, Fantasy   \n",
       "\n",
       "                                         description  \n",
       "0  A small fishing village must procure a local d...  \n",
       "1  A Metro Family decides to fight a Cyber Crimin...  \n",
       "2  After a man discovers his wife is cheating on ...  \n",
       "3  Pink breaks the mold once again, bringing her ...  \n",
       "4  Teenage Matt Banting wants to work with a famo...  "
      ]
     },
     "execution_count": 23,
     "metadata": {},
     "output_type": "execute_result"
    }
   ],
   "source": [
    "df = pd.read_csv(\"amazon_prime_titles.csv\")\n",
    "df.head(5)"
   ]
  },
  {
   "cell_type": "code",
   "execution_count": 33,
   "id": "20a091df",
   "metadata": {},
   "outputs": [],
   "source": [
    "#Fill in the missing values with UNKNOWN since there are almost in every row\n",
    "df['director'].fillna('Unknown', inplace=True)\n",
    "df['cast'].fillna('Unknown',inplace=True)\n",
    "df['country'].fillna('Unknown', inplace=True)\n",
    "#drop the date col since its not relevant and only few of them have it\n",
    "df = df.drop('date_added', axis=1)\n",
    "# Fill missing values in 'rating' with the mode\n",
    "df['rating'].fillna(df['rating'].mode()[0] , inplace = True)\n"
   ]
  },
  {
   "cell_type": "code",
   "execution_count": 25,
   "id": "4095bb15",
   "metadata": {},
   "outputs": [
    {
     "data": {
      "text/plain": [
       "0"
      ]
     },
     "execution_count": 25,
     "metadata": {},
     "output_type": "execute_result"
    }
   ],
   "source": [
    "df.duplicated().sum()"
   ]
  },
  {
   "cell_type": "code",
   "execution_count": 34,
   "id": "9e7f2aef",
   "metadata": {},
   "outputs": [
    {
     "data": {
      "image/png": "[encoded data removed]",
      "text/plain": [
       "<Figure size 640x480 with 1 Axes>"
      ]
     },
     "metadata": {},
     "output_type": "display_data"
    }
   ],
   "source": [
    "#EDA\n",
    "\n",
    "plt.pie(df[\"type\"].value_counts(), labels=df['type'].value_counts().index, autopct = '%1.1f%%')\n",
    "plt.title(\"Distribution of Content Types in Prime\")\n",
    "plt.legend()\n",
    "plt.show()\n"
   ]
  },
  {
   "cell_type": "code",
   "execution_count": 35,
   "id": "7f112cb9",
   "metadata": {},
   "outputs": [
    {
     "data": {
      "text/plain": [
       "array(['Don McKellar', 'Girish Joshi', 'Josh Webber', ...,\n",
       "       'John-Paul Davidson, Stephen Warbeck', 'Emily Skye',\n",
       "       'Steve Barker'], dtype=object)"
      ]
     },
     "execution_count": 35,
     "metadata": {},
     "output_type": "execute_result"
    }
   ],
   "source": [
    "df['director'].unique()"
   ]
  },
  {
   "cell_type": "code",
   "execution_count": 37,
   "id": "37d5df48",
   "metadata": {
    "collapsed": true
   },
   "outputs": [
    {
     "data": {
      "text/plain": [
       "director\n",
       "Unkown                   2083\n",
       "Mark Knight               113\n",
       "Cannis Holder              61\n",
       "Moonbug Entertainment      37\n",
       "Jay Chapman                34\n",
       "Arthur van Merwijk         30\n",
       "Manny Rodriguez            22\n",
       "John English               20\n",
       "1                          16\n",
       "Brian Volk-Weiss           15\n",
       "Name: count, dtype: int64"
      ]
     },
     "execution_count": 37,
     "metadata": {},
     "output_type": "execute_result"
    }
   ],
   "source": [
    "df['director'].value_counts().head(10)"
   ]
  },
  {
   "cell_type": "code",
   "execution_count": 39,
   "id": "c3a8eec8",
   "metadata": {},
   "outputs": [
    {
     "data": {
      "text/plain": [
       "cast\n",
       "Unknown                             1233\n",
       "Maggie Binkley                        56\n",
       "1                                     34\n",
       "Anne-Marie Newland                    24\n",
       "Cassandra Peterson                    21\n",
       "Grace Tamayo, Erin Webbs              17\n",
       "Gene Autry, Champion, Gail Davis      12\n",
       "Stevin John                           11\n",
       "Gallagher                              9\n",
       "LB, Aaron Michael                      9\n",
       "Name: rating, dtype: int64"
      ]
     },
     "execution_count": 39,
     "metadata": {},
     "output_type": "execute_result"
    }
   ],
   "source": [
    "group = df.groupby(\"cast\")[\"rating\"].count().sort_values(ascending=False).head(10)\n",
    "group"
   ]
  },
  {
   "cell_type": "code",
   "execution_count": 41,
   "id": "1a8c95cd",
   "metadata": {},
   "outputs": [
    {
     "data": {
      "image/png": "[encoded data removed]",
      "text/plain": [
       "<Figure size 640x480 with 1 Axes>"
      ]
     },
     "metadata": {},
     "output_type": "display_data"
    }
   ],
   "source": [
    "plt.figure()\n",
    "sns.countplot(x=\"rating\", data=df, order = df[\"rating\"].value_counts().index)\n",
    "plt.title(\"Distribution of Ratings\")\n",
    "plt.xlabel('Rating', fontsize= 12)\n",
    "plt.ylabel('Count', fontsize = 12)\n",
    "plt.xticks(rotation=45, ha='right')\n",
    "plt.tight_layout()\n",
    "plt.show()"
   ]
  },
  {
   "cell_type": "code",
   "execution_count": 43,
   "id": "2a989d30",
   "metadata": {},
   "outputs": [
    {
     "data": {
      "text/plain": [
       "duration\n",
       "1 Season     1342\n",
       "2 Seasons     229\n",
       "90 min        223\n",
       "91 min        220\n",
       "92 min        203\n",
       "89 min        195\n",
       "88 min        188\n",
       "94 min        177\n",
       "87 min        162\n",
       "93 min        162\n",
       "Name: count, dtype: int64"
      ]
     },
     "execution_count": 43,
     "metadata": {},
     "output_type": "execute_result"
    }
   ],
   "source": [
    "df[\"duration\"].value_counts().head(10)"
   ]
  },
  {
   "cell_type": "code",
   "execution_count": 44,
   "id": "8168b4da",
   "metadata": {},
   "outputs": [
    {
     "data": {
      "text/plain": [
       "Index(['show_id', 'type', 'title', 'director', 'cast', 'country',\n",
       "       'release_year', 'rating', 'duration', 'listed_in', 'description'],\n",
       "      dtype='object')"
      ]
     },
     "execution_count": 44,
     "metadata": {},
     "output_type": "execute_result"
    }
   ],
   "source": [
    "df.columns"
   ]
  },
  {
   "cell_type": "code",
   "execution_count": 45,
   "id": "6923ba5e",
   "metadata": {},
   "outputs": [],
   "source": [
    "#MOVIE RECOMMENDATION SYSTEMS\n",
    "from sklearn.feature_extraction.text import TfidfVectorizer\n",
    "from sklearn.metrics.pairwise import cosine_similarity\n"
   ]
  },
  {
   "cell_type": "code",
   "execution_count": 46,
   "id": "0f2d94d4",
   "metadata": {},
   "outputs": [
    {
     "data": {
      "text/plain": [
       "0       Brendan Gleeson, Taylor Kitsch, Gordon Pinsent...\n",
       "1       Mahesh Manjrekar, Abhay Mahajan, Sachin Khedek...\n",
       "2       Tom Sizemore, Lorenzo Lamas, Robert LaSardo, R...\n",
       "3       Interviews with: Pink, Adele, Beyoncé, Britney...\n",
       "4       Harry Dean Stanton, Kieran O'Brien, George Cos...\n",
       "                              ...                        \n",
       "9663    Leo Gorcey, Bobby Jordan  Joseph H. Lewis Come...\n",
       "9664    DICK VOSBURGH, RONNIE STEVENS, LIBBY MORRIS, M...\n",
       "9665    Ray Stevenson, Julian Wadham, Richard Brake, M...\n",
       "9666    Esteban Recagno, Ezequiel Stremiz, Luciano Vit...\n",
       "9667    Michael Caine, Emily Mortimer, Joseph Gilgun, ...\n",
       "Name: combined_features, Length: 9668, dtype: object"
      ]
     },
     "execution_count": 46,
     "metadata": {},
     "output_type": "execute_result"
    }
   ],
   "source": [
    "df['combined_features'] = df['cast'] + ' '  + ' ' + df['director'] + ' ' + df['listed_in'] +  ' ' + df['description']\n",
    "df['combined_features'] "
   ]
  },
  {
   "cell_type": "code",
   "execution_count": 48,
   "id": "00bb0d0d",
   "metadata": {},
   "outputs": [
    {
     "data": {
      "text/plain": [
       "<9668x50596 sparse matrix of type '<class 'numpy.float64'>'\n",
       "\twith 456987 stored elements in Compressed Sparse Row format>"
      ]
     },
     "execution_count": 48,
     "metadata": {},
     "output_type": "execute_result"
    }
   ],
   "source": [
    "vectorizer = TfidfVectorizer()\n",
    "feature_vectors = vectorizer.fit_transform(df['combined_features'])\n",
    "feature_vectors"
   ]
  },
  {
   "cell_type": "code",
   "execution_count": 49,
   "id": "0451fd0c",
   "metadata": {},
   "outputs": [
    {
     "data": {
      "text/plain": [
       "array([[1.        , 0.01348553, 0.00889103, ..., 0.00563612, 0.01243854,\n",
       "        0.01234897],\n",
       "       [0.01348553, 1.        , 0.00370647, ..., 0.        , 0.00255017,\n",
       "        0.00244253],\n",
       "       [0.00889103, 0.00370647, 1.        , ..., 0.02371396, 0.00339846,\n",
       "        0.03232335],\n",
       "       ...,\n",
       "       [0.00563612, 0.        , 0.02371396, ..., 1.        , 0.00453621,\n",
       "        0.0252439 ],\n",
       "       [0.01243854, 0.00255017, 0.00339846, ..., 0.00453621, 1.        ,\n",
       "        0.03676682],\n",
       "       [0.01234897, 0.00244253, 0.03232335, ..., 0.0252439 , 0.03676682,\n",
       "        1.        ]])"
      ]
     },
     "execution_count": 49,
     "metadata": {},
     "output_type": "execute_result"
    }
   ],
   "source": [
    "similarity_matrix =  cosine_similarity(feature_vectors)\n",
    "similarity_matrix"
   ]
  },
  {
   "cell_type": "code",
   "execution_count": null,
   "id": "8dd40a26",
   "metadata": {},
   "outputs": [],
   "source": []
  },
  {
   "cell_type": "code",
   "execution_count": 57,
   "id": "432415c5",
   "metadata": {},
   "outputs": [],
   "source": [
    "def recommend_movies(movie_title, num_recommendations=5):\n",
    "    #Get index of the movie \n",
    "    movie_index = df[df['title'] == movie_title].index\n",
    "    if movie_index.empty:\n",
    "        return \"Movie not Found\"\n",
    "    else:\n",
    "        index = movie_index[0]\n",
    "        #get Similarity scores for the movie\n",
    "        similarity_scores = list(enumerate(similarity_matrix[index]))\n",
    "        #sort movies by similarity score in descedning order\n",
    "        sorted_movies = sorted(similarity_scores, key=lambda x: x[1], reverse = True)\n",
    "        # Return the top recommended movies(excluding the input movie)\n",
    "        recommended_movies = [df['title'].iloc[i[0]] for i in sorted_movies[1:num_recommendations+1]]\n",
    "        return recommended_movies \n",
    "    "
   ]
  },
  {
   "cell_type": "code",
   "execution_count": 58,
   "id": "20470247",
   "metadata": {},
   "outputs": [
    {
     "name": "stdout",
     "output_type": "stream",
     "text": [
      "['Prime Rewind: Inside The Boys', 'Gamma smoke test', 'A Company of Heroes', 'Atlantic: A Year in the Wild', 'Harmony McElligott: The Struggle Continues']\n"
     ]
    }
   ],
   "source": [
    "recommendations = recommend_movies('The Boys')\n",
    "\n",
    "print(recommendations)"
   ]
  },
  {
   "cell_type": "code",
   "execution_count": null,
   "id": "720956b8",
   "metadata": {},
   "outputs": [],
   "source": []
  }
 ],
 "metadata": {
  "kernelspec": {
   "display_name": "Python 3 (ipykernel)",
   "language": "python",
   "name": "python3"
  },
  "language_info": {
   "codemirror_mode": {
    "name": "ipython",
    "version": 3
   },
   "file_extension": ".py",
   "mimetype": "text/x-python",
   "name": "python",
   "nbconvert_exporter": "python",
   "pygments_lexer": "ipython3",
   "version": "3.9.17"
  }
 },
 "nbformat": 4,
 "nbformat_minor": 5
}
